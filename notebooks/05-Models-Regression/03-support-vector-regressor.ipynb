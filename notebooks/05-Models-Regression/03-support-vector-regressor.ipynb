{
 "cells": [
  {
   "cell_type": "code",
   "execution_count": 1,
   "metadata": {},
   "outputs": [],
   "source": [
    "import numpy as np\n",
    "import pandas as pd\n",
    "from sklearn.model_selection import train_test_split, GridSearchCV\n",
    "from sklearn.preprocessing import StandardScaler, RobustScaler\n",
    "from sklearn.pipeline import Pipeline\n",
    "from sklearn.svm import SVR\n",
    "from sklearn.metrics import r2_score, mean_squared_error, mean_absolute_error\n",
    "import matplotlib.pyplot as plt\n",
    "\n",
    "# Cargar datos\n",
    "data_path = '/Users/luissalamanca/Desktop/Duoc/Machine/ML_Proyecto_Semestral/data/03_features/engineered_data.csv'\n",
    "data = pd.read_csv(data_path, sep=';')\n",
    "\n",
    "# Separar columnas concatenadas\n",
    "if len(data.columns) == 1:\n",
    "    column_name = data.columns[0]\n",
    "    if ',' in column_name:\n",
    "        new_columns = column_name.split(',')\n",
    "        data_split = data[column_name].str.split(',', expand=True)\n",
    "        data_split.columns = new_columns\n",
    "        for col in data_split.columns:\n",
    "            data_split[col] = pd.to_numeric(data_split[col], errors='coerce')\n",
    "        data = data_split\n",
    "\n",
    "# Lista de features y target\n",
    "features = [\n",
    "    'EconomicEfficiency',\n",
    "    'EffectivenessScore',\n",
    "    'EquipmentAdvantage',\n",
    "    'KillAssistRatio',\n",
    "    'StealthKillsRatio'\n",
    "]\n",
    "X = data[features]\n",
    "y = data['KDA']\n",
    "\n",
    "# Dividir en entrenamiento/prueba (30% test)\n",
    "X_train, X_test, y_train, y_test = train_test_split(\n",
    "    X, y, test_size=0.3, random_state=42\n",
    ")"
   ]
  },
  {
   "cell_type": "code",
   "execution_count": null,
   "metadata": {},
   "outputs": [
    {
     "name": "stdout",
     "output_type": "stream",
     "text": [
      "Fitting 5 folds for each of 18 candidates, totalling 90 fits\n"
     ]
    }
   ],
   "source": [
    "pipeline_svr = Pipeline([\n",
    "    ('scaler', StandardScaler()),\n",
    "    ('regressor', SVR())\n",
    "])\n",
    "\n",
    "# Definir malla de parámetros para SVR\n",
    "param_svr = {\n",
    "    'regressor__kernel': ['rbf'],\n",
    "    'regressor__C': [1, 10, 100],\n",
    "    'regressor__gamma': ['scale', 'auto'],\n",
    "    'regressor__epsilon': [0.01, 0.1, 0.2]\n",
    "}\n",
    "\n",
    "gs_svr = GridSearchCV(\n",
    "    estimator=pipeline_svr,\n",
    "    param_grid=param_svr,\n",
    "    cv=5,\n",
    "    n_jobs=-1,\n",
    "    scoring='r2',\n",
    "    verbose=1\n",
    ")\n",
    "\n",
    "# Ajustar GridSearchCV\n",
    "gs_svr.fit(X_train, y_train)\n",
    "\n",
    "# Mejor modelo encontrado y sus predicciones\n",
    "best_svr = gs_svr.best_estimator_\n",
    "y_pred_svr = best_svr.predict(X_test)\n",
    "\n",
    "# Métricas\n",
    "r2_svr = r2_score(y_test, y_pred_svr)\n",
    "mse_svr = mean_squared_error(y_test, y_pred_svr)\n",
    "rmse_svr = np.sqrt(mse_svr)\n",
    "mae_svr = mean_absolute_error(y_test, y_pred_svr)\n",
    "\n",
    "print(\"\\n=== SVR (Support Vector Regressor) ===\")\n",
    "print(\"Mejores hiperparámetros encontrados:\")\n",
    "print(gs_svr.best_params_)\n",
    "print(f\"R² (Coef. determinación): {r2_svr:.4f}\")\n",
    "print(f\"MSE:  {mse_svr:.4f}\")\n",
    "print(f\"RMSE: {rmse_svr:.4f}\")\n",
    "print(f\"MAE:  {mae_svr:.4f}\")"
   ]
  }
 ],
 "metadata": {
  "kernelspec": {
   "display_name": "Python 3",
   "language": "python",
   "name": "python3"
  },
  "language_info": {
   "codemirror_mode": {
    "name": "ipython",
    "version": 3
   },
   "file_extension": ".py",
   "mimetype": "text/x-python",
   "name": "python",
   "nbconvert_exporter": "python",
   "pygments_lexer": "ipython3",
   "version": "3.10.17"
  }
 },
 "nbformat": 4,
 "nbformat_minor": 2
}
