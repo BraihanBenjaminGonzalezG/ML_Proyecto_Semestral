{
 "cells": [
  {
   "cell_type": "code",
   "execution_count": 1,
   "metadata": {},
   "outputs": [],
   "source": [
    "import numpy as np\n",
    "import pandas as pd\n",
    "from sklearn.model_selection import train_test_split, GridSearchCV\n",
    "from sklearn.preprocessing import StandardScaler, RobustScaler\n",
    "from sklearn.pipeline import Pipeline\n",
    "from sklearn.neural_network import MLPRegressor\n",
    "from sklearn.metrics import r2_score, mean_squared_error, mean_absolute_error\n",
    "import matplotlib.pyplot as plt\n",
    "\n",
    "# Cargar datos\n",
    "data_path = '/Users/luissalamanca/Desktop/Duoc/Machine/ML_Proyecto_Semestral/data/03_features/engineered_data.csv'\n",
    "data = pd.read_csv(data_path, sep=';')\n",
    "\n",
    "# Separar columnas concatenadas\n",
    "if len(data.columns) == 1:\n",
    "    column_name = data.columns[0]\n",
    "    if ',' in column_name:\n",
    "        new_columns = column_name.split(',')\n",
    "        data_split = data[column_name].str.split(',', expand=True)\n",
    "        data_split.columns = new_columns\n",
    "        for col in data_split.columns:\n",
    "            data_split[col] = pd.to_numeric(data_split[col], errors='coerce')\n",
    "        data = data_split\n",
    "\n",
    "# Lista de features y target\n",
    "features = [\n",
    "    'EconomicEfficiency',\n",
    "    'EffectivenessScore',\n",
    "    'EquipmentAdvantage',\n",
    "    'KillAssistRatio',\n",
    "    'StealthKillsRatio'\n",
    "]\n",
    "X = data[features]\n",
    "y = data['KDA']\n",
    "\n",
    "# Dividir en entrenamiento/prueba (30% test)\n",
    "X_train, X_test, y_train, y_test = train_test_split(\n",
    "    X, y, test_size=0.3, random_state=42\n",
    ")"
   ]
  },
  {
   "cell_type": "code",
   "execution_count": 2,
   "metadata": {},
   "outputs": [
    {
     "name": "stdout",
     "output_type": "stream",
     "text": [
      "Fitting 5 folds for each of 12 candidates, totalling 60 fits\n",
      "\n",
      "=== MLPREGRESSOR (Red Neuronal) ===\n",
      "Mejores hiperparámetros encontrados:\n",
      "{'regressor__alpha': 0.0001, 'regressor__hidden_layer_sizes': (50,), 'regressor__learning_rate_init': 0.001}\n",
      "R² (Coef. determinación): 0.8837\n",
      "MSE:  0.0847\n",
      "RMSE: 0.2911\n",
      "MAE:  0.1768\n"
     ]
    }
   ],
   "source": [
    "pipeline_mlp = Pipeline([\n",
    "    ('scaler', StandardScaler()),\n",
    "    ('regressor', MLPRegressor(\n",
    "        max_iter=500,\n",
    "        random_state=42\n",
    "    ))\n",
    "])\n",
    "\n",
    "param_mlp = {\n",
    "    'regressor__hidden_layer_sizes': [(50,), (100,), (100, 50)],\n",
    "    'regressor__alpha': [0.0001, 0.001],\n",
    "    'regressor__learning_rate_init': [0.001, 0.01]\n",
    "}\n",
    "\n",
    "gs_mlp = GridSearchCV(\n",
    "    estimator=pipeline_mlp,\n",
    "    param_grid=param_mlp,\n",
    "    cv=5,\n",
    "    n_jobs=-1,\n",
    "    scoring='r2',\n",
    "    verbose=1\n",
    ")\n",
    "\n",
    "# Ajustar GridSearchCV para MLP\n",
    "gs_mlp.fit(X_train, y_train)\n",
    "\n",
    "# Mejor modelo y predicción\n",
    "best_mlp = gs_mlp.best_estimator_\n",
    "y_pred_mlp = best_mlp.predict(X_test)\n",
    "\n",
    "# Métricas\n",
    "r2_mlp = r2_score(y_test, y_pred_mlp)\n",
    "mse_mlp = mean_squared_error(y_test, y_pred_mlp)\n",
    "rmse_mlp = np.sqrt(mse_mlp)\n",
    "mae_mlp = mean_absolute_error(y_test, y_pred_mlp)\n",
    "\n",
    "print(\"\\n=== MLPREGRESSOR (Red Neuronal) ===\")\n",
    "print(\"Mejores hiperparámetros encontrados:\")\n",
    "print(gs_mlp.best_params_)\n",
    "print(f\"R² (Coef. determinación): {r2_mlp:.4f}\")\n",
    "print(f\"MSE:  {mse_mlp:.4f}\")\n",
    "print(f\"RMSE: {rmse_mlp:.4f}\")\n",
    "print(f\"MAE:  {mae_mlp:.4f}\")"
   ]
  }
 ],
 "metadata": {
  "kernelspec": {
   "display_name": "Python 3",
   "language": "python",
   "name": "python3"
  },
  "language_info": {
   "codemirror_mode": {
    "name": "ipython",
    "version": 3
   },
   "file_extension": ".py",
   "mimetype": "text/x-python",
   "name": "python",
   "nbconvert_exporter": "python",
   "pygments_lexer": "ipython3",
   "version": "3.10.17"
  }
 },
 "nbformat": 4,
 "nbformat_minor": 2
}
