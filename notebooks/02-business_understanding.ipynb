{
 "cells": [
  {
   "cell_type": "markdown",
   "metadata": {},
   "source": [
    "# Fase 1: Business Understanding\n"
   ]
  },
  {
   "cell_type": "markdown",
   "metadata": {},
   "source": [
    "Valve, la empresa desarrolladora de Counter-Strike: GO (CS:GO), busca aprovechar el análisis de datos y el modelado de Machine Learning para obtener información valiosa sobre el comportamiento de los jugadores y las dinámicas del juego. Esta información puede ser utilizada para:"
   ]
  },
  {
   "cell_type": "markdown",
   "metadata": {},
   "source": [
    "- Mejorar la experiencia del jugador: Identificar factores que contribuyen a una experiencia de juego positiva o negativa, permitiendo realizar ajustes en el diseño del juego, matchmaking y balanceo de equipos.\n",
    "- Potenciar los eSports: Analizar las estrategias y tácticas de los jugadores profesionales para identificar tendencias y patrones que puedan ser utilizados por los equipos para mejorar su rendimiento.\n",
    "- Desarrollar nuevas características: Utilizar los modelos de Machine Learning para predecir el comportamiento de los jugadores y así crear nuevas características o modos de juego que sean más atractivos para la comunidad. Combatir las trampas: Identificar patrones de comportamiento que puedan indicar la presencia de jugadores tramposos, permitiendo implementar medidas para combatir las trampas y mantener la integridad del juego."
   ]
  },
  {
   "cell_type": "markdown",
   "metadata": {},
   "source": [
    "## Hipótesis"
   ]
  },
  {
   "cell_type": "markdown",
   "metadata": {},
   "source": [
    "## Planteamiento\n",
    "Más allá del tiempo o la distancia recorrida, la **precisión** juega un rol clave. Proponemos que:\n",
    "### Clasificacion\n",
    "> **“Las rondas en las que un equipo consigue al menos el 50 % de sus bajas por headshot (`RoundHeadshots / RoundKills ≥ 0.5`) presentan una probabilidad de victoria significativamente mayor que aquellas con una tasa de headshot inferior.”**\n",
    "### Numerica\n",
    "> **“El número de bajas que un equipo logra en una ronda (`RoundKills`) puede predecirse como una variable continua usando las métricas de combate y contexto —sin recurrir a tiempos ni distancias—, alcanzando un coeficiente de determinación \\(R^2\\) de al menos 0.50.”**\n"
   ]
  },
  {
   "cell_type": "markdown",
   "metadata": {},
   "source": [
    "## Criterios de Aceptación"
   ]
  },
  {
   "cell_type": "markdown",
   "metadata": {},
   "source": [
    "1. **Cálculo de la métrica**  \n",
    "   - Para cada combinación (MatchId, RoundId, Team):  \n",
    "     ```python\n",
    "     kills = RoundKills\n",
    "     hs    = RoundHeadshots\n",
    "     headshot_rate = hs / kills  # sólo donde kills > 0\n",
    "     ```\n",
    "2. **Definición de “alta precisión”**  \n",
    "   - Grupo “Alta tasa”: `headshot_rate ≥ 0.50`  \n",
    "   - Grupo “Baja tasa”: `headshot_rate < 0.50`\n",
    "\n",
    "3. **Tamaño de muestra mínimo**  \n",
    "   - Al menos **300 rondas** en cada grupo para asegurar robustez.\n",
    "\n",
    "4. **Métrica de victoria**  \n",
    "   - Calcular la proporción de rondas ganadas (`RoundWinner = 1`) en cada grupo.\n",
    "\n",
    "5. **Umbral de diferencia relevante**  \n",
    "   - Se considerará un efecto relevante si la tasa de victoria del grupo “Alta tasa” supera en **al menos 10 pp** a la del grupo “Baja tasa”.\n",
    "\n",
    "6. **Prueba de significancia**  \n",
    "   - Aplicar un **z-test de dos proporciones** para comprobar **p < 0,05**.\n",
    "\n",
    "7. **Control de variables**  \n",
    "   - Verificar que la distribución de **mapas** y **bando** (T vs. CT) sea similar entre ambos grupos, para descartar sesgos de contexto.\n",
    "\n",
    "---\n",
    "\n",
    "Si al aplicar estos pasos ves que el grupo con alta tasa de headshots gana significativamente más rondas, habrás identificado una métrica de **precisión de disparo** que predice el éxito, sin recurrir a medidas de tiempo ni distancia.  "
   ]
  }
 ],
 "metadata": {
  "language_info": {
   "name": "python"
  }
 },
 "nbformat": 4,
 "nbformat_minor": 2
}
