{
 "cells": [
  {
   "cell_type": "markdown",
   "metadata": {},
   "source": [
    "# Fase 3: Data Preparation"
   ]
  },
  {
   "cell_type": "markdown",
   "metadata": {},
   "source": [
    "# Imports y carga de datos\n",
    "\n",
    "_Cargamos el DataFrame que ya limpiaste／entendiste en la fase anterior._"
   ]
  },
  {
   "cell_type": "code",
   "execution_count": 92,
   "metadata": {},
   "outputs": [],
   "source": [
    "import pandas as pd\n",
    "import numpy as np"
   ]
  },
  {
   "cell_type": "code",
   "execution_count": 93,
   "metadata": {},
   "outputs": [
    {
     "name": "stdout",
     "output_type": "stream",
     "text": [
      "Copia original cargada: (79157, 30)\n"
     ]
    }
   ],
   "source": [
    "path = '/Users/luissalamanca/Desktop/Fundamentos ML/csgo-analysis/data/01_raw/Anexo_ET_demo_round_traces_2022.csv'\n",
    "\n",
    "df = pd.read_csv(path, sep=';', low_memory=False)\n",
    "\n",
    "df_orig = df.copy()\n",
    "print('Copia original cargada:', df_orig.shape)\n",
    "\n",
    "def show(df, name):\n",
    "    print(f\"{name}: {df.shape}\")"
   ]
  },
  {
   "cell_type": "markdown",
   "metadata": {},
   "source": [
    "### Eliminación de columnas irrelevantes"
   ]
  },
  {
   "cell_type": "code",
   "execution_count": 94,
   "metadata": {},
   "outputs": [
    {
     "name": "stdout",
     "output_type": "stream",
     "text": [
      "Después de drop irrelevantes: (79157, 26)\n"
     ]
    }
   ],
   "source": [
    "df_prep_1 = df_orig.copy()\n",
    "to_drop = [\n",
    "    'Unnamed: 0', 'InternalTeamId',\n",
    "    'TimeAlive', 'TravelledDistance',\n",
    "    'TimeAlive_ns','TimeAlive_s_rel',\n",
    "    'TravelledDistance_ns','TravelledDistance_s_abs'\n",
    "]\n",
    "df_prep_1 = df_prep_1.drop(columns=[c for c in to_drop if c in df_prep_1.columns])\n",
    "show(df_prep_1, 'Después de drop irrelevantes')"
   ]
  },
  {
   "cell_type": "markdown",
   "metadata": {},
   "source": [
    "### Manejo de valores faltantes en métricas de combate"
   ]
  },
  {
   "cell_type": "code",
   "execution_count": 95,
   "metadata": {},
   "outputs": [
    {
     "name": "stdout",
     "output_type": "stream",
     "text": [
      "Después de imputación de combat_cols: (79157, 26)\n"
     ]
    }
   ],
   "source": [
    "# Imputar 0 en kills, assists, headshots, flank kills\n",
    "df_prep_2 = df_prep_1.copy()\n",
    "combat_cols = ['RoundKills','RoundAssists','RoundHeadshots','RoundFlankKills']\n",
    "for c in combat_cols:\n",
    "    df_prep_2[c] = df_prep_2[c].fillna(0).astype(int)\n",
    "show(df_prep_2, 'Después de imputación de combat_cols')"
   ]
  },
  {
   "cell_type": "markdown",
   "metadata": {},
   "source": [
    "### Conversión de tipos básicos"
   ]
  },
  {
   "cell_type": "code",
   "execution_count": 97,
   "metadata": {},
   "outputs": [
    {
     "name": "stdout",
     "output_type": "stream",
     "text": [
      "Después de conversión de tipos: (79157, 26)\n"
     ]
    }
   ],
   "source": [
    "df_prep_3 = df_prep_2.copy()\n",
    "# RoundWinner a int, asegurando sin NA\n",
    "df_prep_3['RoundWinner'] = (\n",
    "    df_prep_3['RoundWinner']\n",
    "      .map({True:1, False:0, 'True':1, 'False':0})\n",
    "      .fillna(0)\n",
    "      .astype(int)\n",
    ")\n",
    "# Map y Team como categorías\n",
    "for cat in ['Map','Team']:\n",
    "    df_prep_3[cat] = df_prep_3[cat].astype('category')\n",
    "show(df_prep_3, 'Después de conversión de tipos')"
   ]
  },
  {
   "cell_type": "markdown",
   "metadata": {},
   "source": [
    "### Feature Engineering: tasa de headshots"
   ]
  },
  {
   "cell_type": "code",
   "execution_count": 14,
   "metadata": {},
   "outputs": [
    {
     "name": "stdout",
     "output_type": "stream",
     "text": [
      "Después de feature engineering: (79157, 28)\n"
     ]
    }
   ],
   "source": [
    "df_prep_4 = df_prep_3.copy()\n",
    "def calc_hs_rate(row):\n",
    "    return row['RoundHeadshots'] / row['RoundKills'] if row['RoundKills'] > 0 else 0\n",
    "\n",
    "df_prep_4['HeadshotRate'] = df_prep_4.apply(calc_hs_rate, axis=1)\n",
    "df_prep_4['HighHeadshot'] = (df_prep_4['HeadshotRate'] >= 0.5).astype(int)\n",
    "show(df_prep_4, 'Después de feature engineering')"
   ]
  },
  {
   "cell_type": "code",
   "execution_count": 18,
   "metadata": {},
   "outputs": [
    {
     "name": "stdout",
     "output_type": "stream",
     "text": [
      "Después de crear HeadshotRatio y HighHeadshotRate: (79157, 28)\n"
     ]
    },
    {
     "data": {
      "text/html": [
       "<div>\n",
       "<style scoped>\n",
       "    .dataframe tbody tr th:only-of-type {\n",
       "        vertical-align: middle;\n",
       "    }\n",
       "\n",
       "    .dataframe tbody tr th {\n",
       "        vertical-align: top;\n",
       "    }\n",
       "\n",
       "    .dataframe thead th {\n",
       "        text-align: right;\n",
       "    }\n",
       "</style>\n",
       "<table border=\"1\" class=\"dataframe\">\n",
       "  <thead>\n",
       "    <tr style=\"text-align: right;\">\n",
       "      <th></th>\n",
       "      <th>RoundKills</th>\n",
       "      <th>RoundHeadshots</th>\n",
       "      <th>HeadshotRatio</th>\n",
       "      <th>HighHeadshotRate</th>\n",
       "    </tr>\n",
       "  </thead>\n",
       "  <tbody>\n",
       "    <tr>\n",
       "      <th>36911</th>\n",
       "      <td>0</td>\n",
       "      <td>0</td>\n",
       "      <td>0.0</td>\n",
       "      <td>0</td>\n",
       "    </tr>\n",
       "    <tr>\n",
       "      <th>26794</th>\n",
       "      <td>1</td>\n",
       "      <td>0</td>\n",
       "      <td>0.0</td>\n",
       "      <td>0</td>\n",
       "    </tr>\n",
       "    <tr>\n",
       "      <th>46279</th>\n",
       "      <td>0</td>\n",
       "      <td>0</td>\n",
       "      <td>0.0</td>\n",
       "      <td>0</td>\n",
       "    </tr>\n",
       "    <tr>\n",
       "      <th>52194</th>\n",
       "      <td>0</td>\n",
       "      <td>0</td>\n",
       "      <td>0.0</td>\n",
       "      <td>0</td>\n",
       "    </tr>\n",
       "    <tr>\n",
       "      <th>33864</th>\n",
       "      <td>0</td>\n",
       "      <td>0</td>\n",
       "      <td>0.0</td>\n",
       "      <td>0</td>\n",
       "    </tr>\n",
       "    <tr>\n",
       "      <th>5756</th>\n",
       "      <td>0</td>\n",
       "      <td>0</td>\n",
       "      <td>0.0</td>\n",
       "      <td>0</td>\n",
       "    </tr>\n",
       "    <tr>\n",
       "      <th>49108</th>\n",
       "      <td>1</td>\n",
       "      <td>1</td>\n",
       "      <td>1.0</td>\n",
       "      <td>1</td>\n",
       "    </tr>\n",
       "    <tr>\n",
       "      <th>42413</th>\n",
       "      <td>0</td>\n",
       "      <td>0</td>\n",
       "      <td>0.0</td>\n",
       "      <td>0</td>\n",
       "    </tr>\n",
       "    <tr>\n",
       "      <th>53637</th>\n",
       "      <td>0</td>\n",
       "      <td>0</td>\n",
       "      <td>0.0</td>\n",
       "      <td>0</td>\n",
       "    </tr>\n",
       "    <tr>\n",
       "      <th>49516</th>\n",
       "      <td>2</td>\n",
       "      <td>2</td>\n",
       "      <td>1.0</td>\n",
       "      <td>1</td>\n",
       "    </tr>\n",
       "  </tbody>\n",
       "</table>\n",
       "</div>"
      ],
      "text/plain": [
       "       RoundKills  RoundHeadshots  HeadshotRatio  HighHeadshotRate\n",
       "36911           0               0            0.0                 0\n",
       "26794           1               0            0.0                 0\n",
       "46279           0               0            0.0                 0\n",
       "52194           0               0            0.0                 0\n",
       "33864           0               0            0.0                 0\n",
       "5756            0               0            0.0                 0\n",
       "49108           1               1            1.0                 1\n",
       "42413           0               0            0.0                 0\n",
       "53637           0               0            0.0                 0\n",
       "49516           2               2            1.0                 1"
      ]
     },
     "execution_count": 18,
     "metadata": {},
     "output_type": "execute_result"
    }
   ],
   "source": [
    "\n",
    "\n",
    "df_prep_4 = df_prep_3.copy()\n",
    "\n",
    "df_prep_4['HeadshotRatio'] = np.where(\n",
    "    df_prep_4['RoundKills'] > 0,\n",
    "    df_prep_4['RoundHeadshots'] / df_prep_4['RoundKills'],\n",
    "    0\n",
    ")\n",
    "\n",
    "\n",
    "df_prep_4['HighHeadshotRate'] = (df_prep_4['HeadshotRatio'] >= 0.5).astype(int)\n",
    "\n",
    "\n",
    "show(df_prep_4, 'Después de crear HeadshotRatio y HighHeadshotRate')\n",
    "\n",
    "\n",
    "df_prep_4[['RoundKills', 'RoundHeadshots', 'HeadshotRatio', 'HighHeadshotRate']].sample(10)\n"
   ]
  },
  {
   "cell_type": "code",
   "execution_count": 19,
   "metadata": {},
   "outputs": [
    {
     "data": {
      "image/png": "[encoded data removed]",
      "text/plain": [
       "<Figure size 600x400 with 1 Axes>"
      ]
     },
     "metadata": {},
     "output_type": "display_data"
    },
    {
     "name": "stdout",
     "output_type": "stream",
     "text": [
      "HighHeadshotRate\n",
      "0    0.536737\n",
      "1    0.377891\n",
      "Name: RoundWinner, dtype: float64\n"
     ]
    }
   ],
   "source": [
    "import matplotlib.pyplot as plt\n",
    "\n",
    "victory_rate = df_prep_4.groupby('HighHeadshotRate')['RoundWinner'].mean()\n",
    "\n",
    "plt.figure(figsize=(6,4))\n",
    "plt.bar(['Headshot < 50%', 'Headshot ≥ 50%'], victory_rate.values)\n",
    "plt.title('Tasa de Victoria según Headshot Ratio')\n",
    "plt.ylabel('Tasa de Victoria')\n",
    "plt.ylim(0, 1)\n",
    "plt.grid(axis='y')\n",
    "plt.show()\n",
    "\n",
    "print(victory_rate)\n"
   ]
  },
  {
   "cell_type": "code",
   "execution_count": null,
   "metadata": {},
   "outputs": [],
   "source": []
  },
  {
   "cell_type": "code",
   "execution_count": 21,
   "metadata": {},
   "outputs": [
    {
     "data": {
      "image/png": "[encoded data removed]",
      "text/plain": [
       "<Figure size 800x600 with 1 Axes>"
      ]
     },
     "metadata": {},
     "output_type": "display_data"
    }
   ],
   "source": [
    "import seaborn as sns\n",
    "import matplotlib.pyplot as plt\n",
    "\n",
    "plt.figure(figsize=(8,6))\n",
    "sns.boxplot(\n",
    "    x='RoundWinner',\n",
    "    y='HeadshotRatio',\n",
    "    data=df_prep_4\n",
    ")\n",
    "plt.title('Distribución de Headshot Ratio según Resultado de Ronda')\n",
    "plt.xlabel('¿Ganó la Ronda? (0 = No, 1 = Sí)')\n",
    "plt.ylabel('Headshot Ratio')\n",
    "plt.grid(axis='y')\n",
    "\n",
    "plt.show()\n"
   ]
  },
  {
   "cell_type": "markdown",
   "metadata": {},
   "source": [
    "### Encoding y escalado"
   ]
  },
  {
   "cell_type": "code",
   "execution_count": 98,
   "metadata": {},
   "outputs": [
    {
     "name": "stdout",
     "output_type": "stream",
     "text": [
      "Después de encoding y escalado: (79157, 30)\n"
     ]
    }
   ],
   "source": [
    "df_prep_5 = df_prep_4.copy()\n",
    "from sklearn.preprocessing import OneHotEncoder, StandardScaler\n",
    "import pandas as pd\n",
    "\n",
    "# — 1) One-hot encoding de mapa —\n",
    "ohe = OneHotEncoder(sparse_output=False, drop='first')\n",
    "map_ohe = ohe.fit_transform(df_prep_5[['Map']])\n",
    "map_df = pd.DataFrame(\n",
    "    map_ohe,\n",
    "    index=df_prep_5.index,\n",
    "    columns=ohe.get_feature_names_out(['Map'])\n",
    ")\n",
    "df_prep_5 = pd.concat([df_prep_5, map_df], axis=1).drop(columns=['Map'])\n",
    "\n",
    "# — 2) Encoding para MatchWinner y Survived —\n",
    "# Convertimos a 0/1 primero por seguridad\n",
    "df_prep_5['MatchWinner'] = df_prep_5['MatchWinner'].map({True:1, False:0, 'True':1, 'False':0})\n",
    "df_prep_5['Survived']    = df_prep_5['Survived'].map({True:1, False:0, 'True':1, 'False':0})\n",
    "\n",
    "# Luego, si prefieres dummies (queda una sola columna _1 tras drop_first)\n",
    "mw_d = pd.get_dummies(df_prep_5['MatchWinner'], prefix='MatchWon', drop_first=True)\n",
    "sv_d = pd.get_dummies(df_prep_5['Survived'],    prefix='Survived', drop_first=True)\n",
    "\n",
    "df_prep_5 = pd.concat([df_prep_5, mw_d, sv_d], axis=1).drop(columns=['MatchWinner','Survived'])\n",
    "\n",
    "# — 3) Escalado de HeadshotRate —\n",
    "df_prep_5['HeadshotRate'] = StandardScaler().fit_transform(\n",
    "    df_prep_5[['HeadshotRate']]\n",
    ")\n",
    "\n",
    "# Visualizar forma final\n",
    "show(df_prep_5, 'Después de encoding y escalado')"
   ]
  },
  {
   "cell_type": "code",
   "execution_count": null,
   "metadata": {},
   "outputs": [],
   "source": []
  },
  {
   "cell_type": "markdown",
   "metadata": {},
   "source": [
    "### Guardado final"
   ]
  },
  {
   "cell_type": "code",
   "execution_count": 86,
   "metadata": {},
   "outputs": [
    {
     "name": "stdout",
     "output_type": "stream",
     "text": [
      "Guardado en 04_data_prepared.csv | shape: (79157, 30)\n"
     ]
    }
   ],
   "source": [
    "df_final = df_prep_5.copy()\n",
    "df_final.to_csv('04_data_prepared.csv', index=False)\n",
    "print('Guardado en 04_data_prepared.csv | shape:', df_final.shape)"
   ]
  }
 ],
 "metadata": {
  "kernelspec": {
   "display_name": "Python [conda env:base] *",
   "language": "python",
   "name": "conda-base-py"
  },
  "language_info": {
   "codemirror_mode": {
    "name": "ipython",
    "version": 3
   },
   "file_extension": ".py",
   "mimetype": "text/x-python",
   "name": "python",
   "nbconvert_exporter": "python",
   "pygments_lexer": "ipython3",
   "version": "3.12.7"
  }
 },
 "nbformat": 4,
 "nbformat_minor": 4
}
